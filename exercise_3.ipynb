{
 "cells": [
  {
   "cell_type": "markdown",
   "metadata": {},
   "source": [
    "# Exercise 3\n",
    "\n",
    "Authors: Joseph Weibel, Rebecka Fahrni"
   ]
  },
  {
   "cell_type": "markdown",
   "metadata": {},
   "source": [
    "## 1 Implementing convolution\n",
    "\n",
    "* *1a.) Generatinng signal:*\n",
    "\n",
    "    Generate a 1-dimensional signal with 100 data points. All data points should be zero except the data points at the index between 50 and 70 (mySignal[50:70]). These data points should have the value of 1.\n",
    "\n",
    "\n",
    "* *1b.) Generating kernel:*\n",
    "\n",
    "    Generate a 1-dimensional kernel with size of 6. The values of the kernel should be [1. 0.8 0.6 0.4 0.2 0] (keep the order the same while generating the kernel)\n",
    "\n",
    "\n",
    "* *1c.) Convolution:*\n",
    "\n",
    "    Implement your own Python function that takes a signal and a kernel as parameters and computes their convolution without using built-in convolution functions available in existing libraries (e.g. NumPy, Scipy, etc.) This function should return the output signal after the convolution. Call your convolution function with the signal and kernel you created before\n",
    "    \n",
    "\n",
    "Important : Solutions with any library’s convolution function will not be accepted\n",
    "\n",
    "\n"
   ]
  },
  {
   "cell_type": "code",
   "execution_count": null,
   "metadata": {
    "vscode": {
     "languageId": "plaintext"
    }
   },
   "outputs": [],
   "source": []
  },
  {
   "cell_type": "markdown",
   "metadata": {},
   "source": [
    "* *1d.) Plotting signalsl:*\n",
    "\n",
    "    Plot signal that you created before and after convolution, as well as the kernel\n"
   ]
  },
  {
   "cell_type": "code",
   "execution_count": null,
   "metadata": {
    "vscode": {
     "languageId": "plaintext"
    }
   },
   "outputs": [],
   "source": []
  },
  {
   "cell_type": "markdown",
   "metadata": {},
   "source": [
    "\n",
    "\n",
    "* *1e.) Describing the effects of convolution:*\n",
    "\n",
    "    Describe how conovlution affects singal that you created\n"
   ]
  },
  {
   "cell_type": "markdown",
   "metadata": {},
   "source": [
    "--- "
   ]
  },
  {
   "cell_type": "markdown",
   "metadata": {},
   "source": [
    "## 2 Filtering EMG data via Fourier transformation\n",
    "\n",
    "* *2a.) Importing raw data:*\n",
    "\n",
    "    import data file 'emg_healthy.npy'. \n",
    "\n",
    "* *2b.) Applying Fourier transfomation:*\n",
    "\n",
    "    Apply a Fourier transformation to decompose data to its frequency components and plot the power spectrum. You are allowed to use Fourier transformation functions from SciPy library\n",
    "\n",
    "* *2c.) Band-pass filtering via Fourier transform:*\n",
    "    \n",
    "    Apply a high pass filter at 200 Hz and low pass filter at 400 Hz using the Fourier transaformation. Plot the power spectrum after filtering.\n",
    "\n",
    "Important : Solutions filtering the data without using a Fourier transform will not be\n",
    "accepted.\n",
    "\n"
   ]
  }
 ],
 "metadata": {
  "language_info": {
   "name": "python"
  }
 },
 "nbformat": 4,
 "nbformat_minor": 2
}

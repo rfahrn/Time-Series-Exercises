{
 "cells": [
  {
   "cell_type": "markdown",
   "metadata": {},
   "source": [
    "# Exercise 5\n",
    "\n",
    "Authors: Joseph Weibel, Rebecka Fahrni"
   ]
  },
  {
   "cell_type": "code",
   "execution_count": 5,
   "metadata": {},
   "outputs": [],
   "source": [
    "from scipy.spatial.distance import cdist\n",
    "import matplotlib.pyplot as plt\n",
    "import numpy as np\n",
    "\n",
    "np.random.seed(10)\n"
   ]
  },
  {
   "cell_type": "markdown",
   "metadata": {},
   "source": [
    "## Exercise 1a \n",
    "Loading data"
   ]
  },
  {
   "cell_type": "code",
   "execution_count": 4,
   "metadata": {},
   "outputs": [
    {
     "name": "stdout",
     "output_type": "stream",
     "text": [
      "number of electrodes:   199\n",
      "number of time samples: 57\n"
     ]
    }
   ],
   "source": [
    "# load datasets\n",
    "data = np.load('data/data_all_button_press_window_events_hg.npy')\n",
    "\n",
    "print('number of electrodes:  ', data.shape[1])\n",
    "print('number of time samples:', data.shape[0])"
   ]
  },
  {
   "cell_type": "code",
   "execution_count": 8,
   "metadata": {},
   "outputs": [
    {
     "data": {
      "text/plain": [
       "(57, 5)"
      ]
     },
     "execution_count": 8,
     "metadata": {},
     "output_type": "execute_result"
    }
   ],
   "source": [
    "centers = data[:, np.random.choice(data.shape[1], 5, replace=False)]\n",
    "centers.shape"
   ]
  },
  {
   "cell_type": "code",
   "execution_count": 10,
   "metadata": {},
   "outputs": [
    {
     "data": {
      "text/plain": [
       "(199, 5)"
      ]
     },
     "execution_count": 10,
     "metadata": {},
     "output_type": "execute_result"
    }
   ],
   "source": [
    "cdist(data.T, centers.T, 'euclidean').shape"
   ]
  },
  {
   "cell_type": "markdown",
   "metadata": {},
   "source": [
    "## Exercise 1b\n",
    "\n",
    "Implement Fuzzy-C Means Clustering"
   ]
  },
  {
   "cell_type": "code",
   "execution_count": 37,
   "metadata": {},
   "outputs": [
    {
     "data": {
      "text/plain": [
       "0"
      ]
     },
     "execution_count": 37,
     "metadata": {},
     "output_type": "execute_result"
    }
   ],
   "source": [
    "0 ** 2"
   ]
  },
  {
   "cell_type": "code",
   "execution_count": 48,
   "metadata": {},
   "outputs": [],
   "source": [
    "def cluster(data, k):\n",
    "\tD = 3.5\n",
    "\n",
    "\t# 1st step: choose k random elctrodes as initial cluster centers\n",
    "\tcenters = data[:, np.random.choice(data.shape[1], k, replace=False)]\n",
    "\n",
    "\tlabels = None\n",
    "\tfor iter in range(100): # stop after 100 iterations to avoid infinite loops\n",
    "\t\t# 2nd step: update the cluster assignment\n",
    "\t\tdist = cdist(data.T, centers.T, 'sqeuclidean')\n",
    "\t\tnew_labels = np.zeros(dist.shape)\n",
    "\t\tfor i in range(data.shape[1]):\n",
    "\t\t\tfor j in range(k):\n",
    "\t\t\t\tnew_labels[i, j] = 1 / np.sum((dist[i, j] / dist[i]) ** (1 / (D - 1)))\n",
    "\n",
    "\t\t# 3rd step: check for convergence\n",
    "\t\tif labels is not None and np.all(new_labels == labels):\n",
    "\t\t\tprint(f'convergence after {iter+1} steps')\n",
    "\t\t\tbreak\n",
    "\n",
    "\t\tlabels = new_labels\n",
    "\n",
    "\t\t# 4th step: update the cluster centers based on the new assignment\n",
    "\t\tfor j in range(k):\n",
    "\t\t\tcenters[:, j] = (data @ (labels[:, j] ** D)) / (labels[:, j] ** D).sum()\n",
    "\n",
    "\t# last step: calculate total squared distance\n",
    "\tdist = cdist(data.T, centers.T, 'sqeuclidean')\n",
    "\ttotal_squared_distance = (dist * (labels ** D)).sum()\n",
    "\n",
    "\treturn total_squared_distance, labels.argmin(axis=1)\n"
   ]
  },
  {
   "cell_type": "markdown",
   "metadata": {},
   "source": [
    "## Exercise 1c\n",
    "\n",
    "Test different values for $k$"
   ]
  },
  {
   "cell_type": "code",
   "execution_count": 49,
   "metadata": {},
   "outputs": [
    {
     "name": "stderr",
     "output_type": "stream",
     "text": [
      "/var/folders/zl/w6zt87md14j4524by47x78j00000gq/T/ipykernel_92069/936923528.py:14: RuntimeWarning: divide by zero encountered in divide\n",
      "  new_labels[i, j] = 1 / np.sum((dist[i, j] / dist[i]) ** (1 / (D - 1)))\n",
      "/var/folders/zl/w6zt87md14j4524by47x78j00000gq/T/ipykernel_92069/936923528.py:14: RuntimeWarning: invalid value encountered in divide\n",
      "  new_labels[i, j] = 1 / np.sum((dist[i, j] / dist[i]) ** (1 / (D - 1)))\n"
     ]
    },
    {
     "data": {
      "image/png": "[encoded data removed]",
      "text/plain": [
       "<Figure size 800x500 with 1 Axes>"
      ]
     },
     "metadata": {},
     "output_type": "display_data"
    }
   ],
   "source": [
    "k_values = np.arange(2, 6 + 1)\n",
    "distances = []\n",
    "\n",
    "# try different k\n",
    "for k in k_values:\n",
    "\tdistance, _ = cluster(data, k)\n",
    "\tdistances.append(distance)\n",
    "\n",
    "# plot distances\n",
    "plt.figure(figsize=(8, 5))\n",
    "plt.plot(k_values, distances)\n",
    "plt.title('Performance of Different $k$')\n",
    "plt.xlabel('$k$')\n",
    "plt.ylabel('total squared distance')\n",
    "plt.show()"
   ]
  },
  {
   "cell_type": "code",
   "execution_count": null,
   "metadata": {},
   "outputs": [],
   "source": []
  }
 ],
 "metadata": {
  "kernelspec": {
   "display_name": "GPU-env",
   "language": "python",
   "name": "python3"
  },
  "language_info": {
   "codemirror_mode": {
    "name": "ipython",
    "version": 3
   },
   "file_extension": ".py",
   "mimetype": "text/x-python",
   "name": "python",
   "nbconvert_exporter": "python",
   "pygments_lexer": "ipython3",
   "version": "3.11.5"
  }
 },
 "nbformat": 4,
 "nbformat_minor": 2
}
